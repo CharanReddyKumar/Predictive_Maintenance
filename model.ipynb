{
 "cells": [
  {
   "cell_type": "code",
   "execution_count": null,
   "id": "5a6356f4-2866-4744-8fa6-fb7b60c9b4e4",
   "metadata": {},
   "outputs": [
    {
     "name": "stdout",
     "output_type": "stream",
     "text": [
      ".........................................................................................................................................................."
     ]
    },
    {
     "ename": "KeyboardInterrupt",
     "evalue": "",
     "output_type": "error",
     "traceback": [
      "\u001b[0;31m---------------------------------------------------------------------------\u001b[0m",
      "\u001b[0;31mKeyboardInterrupt\u001b[0m                         Traceback (most recent call last)",
      "Cell \u001b[0;32mIn[3], line 24\u001b[0m\n\u001b[1;32m     22\u001b[0m \u001b[38;5;66;03m# Launch the AutoML job\u001b[39;00m\n\u001b[1;32m     23\u001b[0m automl_job_name \u001b[38;5;241m=\u001b[39m \u001b[38;5;124m\"\u001b[39m\u001b[38;5;124mfailure-prediction-automl\u001b[39m\u001b[38;5;124m\"\u001b[39m\n\u001b[0;32m---> 24\u001b[0m \u001b[43mautoml\u001b[49m\u001b[38;5;241;43m.\u001b[39;49m\u001b[43mfit\u001b[49m\u001b[43m(\u001b[49m\u001b[43minputs\u001b[49m\u001b[38;5;241;43m=\u001b[39;49m\u001b[43ms3_input_path\u001b[49m\u001b[43m,\u001b[49m\u001b[43m \u001b[49m\u001b[43mjob_name\u001b[49m\u001b[38;5;241;43m=\u001b[39;49m\u001b[43mautoml_job_name\u001b[49m\u001b[43m)\u001b[49m\n\u001b[1;32m     26\u001b[0m \u001b[38;5;28mprint\u001b[39m(\u001b[38;5;124m\"\u001b[39m\u001b[38;5;124mAutoML job launched:\u001b[39m\u001b[38;5;124m\"\u001b[39m, automl_job_name)\n",
      "File \u001b[0;32m/opt/conda/lib/python3.11/site-packages/sagemaker/workflow/pipeline_context.py:346\u001b[0m, in \u001b[0;36mrunnable_by_pipeline.<locals>.wrapper\u001b[0;34m(*args, **kwargs)\u001b[0m\n\u001b[1;32m    342\u001b[0m         \u001b[38;5;28;01mreturn\u001b[39;00m context\n\u001b[1;32m    344\u001b[0m     \u001b[38;5;28;01mreturn\u001b[39;00m _StepArguments(retrieve_caller_name(self_instance), run_func, \u001b[38;5;241m*\u001b[39margs, \u001b[38;5;241m*\u001b[39m\u001b[38;5;241m*\u001b[39mkwargs)\n\u001b[0;32m--> 346\u001b[0m \u001b[38;5;28;01mreturn\u001b[39;00m \u001b[43mrun_func\u001b[49m\u001b[43m(\u001b[49m\u001b[38;5;241;43m*\u001b[39;49m\u001b[43margs\u001b[49m\u001b[43m,\u001b[49m\u001b[43m \u001b[49m\u001b[38;5;241;43m*\u001b[39;49m\u001b[38;5;241;43m*\u001b[39;49m\u001b[43mkwargs\u001b[49m\u001b[43m)\u001b[49m\n",
      "File \u001b[0;32m/opt/conda/lib/python3.11/site-packages/sagemaker/automl/automl.py:280\u001b[0m, in \u001b[0;36mAutoML.fit\u001b[0;34m(self, inputs, wait, logs, job_name)\u001b[0m\n\u001b[1;32m    278\u001b[0m \u001b[38;5;28mself\u001b[39m\u001b[38;5;241m.\u001b[39mlatest_auto_ml_job \u001b[38;5;241m=\u001b[39m AutoMLJob\u001b[38;5;241m.\u001b[39mstart_new(\u001b[38;5;28mself\u001b[39m, inputs)  \u001b[38;5;66;03m# pylint: disable=W0201\u001b[39;00m\n\u001b[1;32m    279\u001b[0m \u001b[38;5;28;01mif\u001b[39;00m wait:\n\u001b[0;32m--> 280\u001b[0m     \u001b[38;5;28;43mself\u001b[39;49m\u001b[38;5;241;43m.\u001b[39;49m\u001b[43mlatest_auto_ml_job\u001b[49m\u001b[38;5;241;43m.\u001b[39;49m\u001b[43mwait\u001b[49m\u001b[43m(\u001b[49m\u001b[43mlogs\u001b[49m\u001b[38;5;241;43m=\u001b[39;49m\u001b[43mlogs\u001b[49m\u001b[43m)\u001b[49m\n",
      "File \u001b[0;32m/opt/conda/lib/python3.11/site-packages/sagemaker/automl/automl.py:1056\u001b[0m, in \u001b[0;36mAutoMLJob.wait\u001b[0;34m(self, logs)\u001b[0m\n\u001b[1;32m   1050\u001b[0m \u001b[38;5;250m\u001b[39m\u001b[38;5;124;03m\"\"\"Wait for the AutoML job to finish.\u001b[39;00m\n\u001b[1;32m   1051\u001b[0m \n\u001b[1;32m   1052\u001b[0m \u001b[38;5;124;03mArgs:\u001b[39;00m\n\u001b[1;32m   1053\u001b[0m \u001b[38;5;124;03m    logs (bool): indicate whether to output logs.\u001b[39;00m\n\u001b[1;32m   1054\u001b[0m \u001b[38;5;124;03m\"\"\"\u001b[39;00m\n\u001b[1;32m   1055\u001b[0m \u001b[38;5;28;01mif\u001b[39;00m logs:\n\u001b[0;32m-> 1056\u001b[0m     \u001b[38;5;28;43mself\u001b[39;49m\u001b[38;5;241;43m.\u001b[39;49m\u001b[43msagemaker_session\u001b[49m\u001b[38;5;241;43m.\u001b[39;49m\u001b[43mlogs_for_auto_ml_job\u001b[49m\u001b[43m(\u001b[49m\u001b[38;5;28;43mself\u001b[39;49m\u001b[38;5;241;43m.\u001b[39;49m\u001b[43mjob_name\u001b[49m\u001b[43m,\u001b[49m\u001b[43m \u001b[49m\u001b[43mwait\u001b[49m\u001b[38;5;241;43m=\u001b[39;49m\u001b[38;5;28;43;01mTrue\u001b[39;49;00m\u001b[43m)\u001b[49m\n\u001b[1;32m   1057\u001b[0m \u001b[38;5;28;01melse\u001b[39;00m:\n\u001b[1;32m   1058\u001b[0m     \u001b[38;5;28mself\u001b[39m\u001b[38;5;241m.\u001b[39msagemaker_session\u001b[38;5;241m.\u001b[39mwait_for_auto_ml_job(\u001b[38;5;28mself\u001b[39m\u001b[38;5;241m.\u001b[39mjob_name)\n",
      "File \u001b[0;32m/opt/conda/lib/python3.11/site-packages/sagemaker/session.py:2709\u001b[0m, in \u001b[0;36mSession.logs_for_auto_ml_job\u001b[0;34m(self, job_name, wait, poll)\u001b[0m\n\u001b[1;32m   2706\u001b[0m \u001b[38;5;28;01mif\u001b[39;00m state \u001b[38;5;241m==\u001b[39m LogState\u001b[38;5;241m.\u001b[39mCOMPLETE:\n\u001b[1;32m   2707\u001b[0m     \u001b[38;5;28;01mbreak\u001b[39;00m\n\u001b[0;32m-> 2709\u001b[0m time\u001b[38;5;241m.\u001b[39msleep(poll)\n\u001b[1;32m   2711\u001b[0m \u001b[38;5;28;01mif\u001b[39;00m state \u001b[38;5;241m==\u001b[39m LogState\u001b[38;5;241m.\u001b[39mJOB_COMPLETE:\n\u001b[1;32m   2712\u001b[0m     state \u001b[38;5;241m=\u001b[39m LogState\u001b[38;5;241m.\u001b[39mCOMPLETE\n",
      "\u001b[0;31mKeyboardInterrupt\u001b[0m: "
     ]
    }
   ],
   "source": [
    "import boto3\n",
    "import sagemaker\n",
    "from sagemaker import AutoML\n",
    "\n",
    "# Initialize SageMaker session\n",
    "session = sagemaker.Session()\n",
    "role = \"arn:aws:iam::940482431470:role/service-role/AmazonSageMaker-ExecutionRole-20241118T144464\"\n",
    "\n",
    "# Define the input and output S3 paths\n",
    "s3_input_path = \"s3://machine-failure-transformed-bucket/TransformedData/part-00000-9620d974-1176-4141-9a5b-93f56d422c48-c000.csv\"\n",
    "s3_output_path = \"s3://machine-failure-transformed-bucket/AutopilotOutput/\"\n",
    "\n",
    "# Initialize the AutoML job\n",
    "automl = AutoML(\n",
    "    role=role,\n",
    "    target_attribute_name=\"Failure\",  \n",
    "    output_path=s3_output_path,\n",
    "    problem_type=\"BinaryClassification\", \n",
    "    job_objective={\"MetricName\": \"Accuracy\"},\n",
    ")\n",
    "# Launch the AutoML job\n",
    "automl_job_name = \"failure-prediction-automl\"\n",
    "automl.fit(inputs=s3_input_path, job_name=automl_job_name)\n",
    "\n",
    "print(\"AutoML job launched:\", automl_job_name)"
   ]
  },
  {
   "cell_type": "code",
   "execution_count": 28,
   "id": "291ceda6-3c16-470a-ba9f-d55513f7eb87",
   "metadata": {},
   "outputs": [
    {
     "name": "stdout",
     "output_type": "stream",
     "text": [
      "AutoML Job Status: Completed\n"
     ]
    }
   ],
   "source": [
    "import boto3\n",
    "import sagemaker\n",
    "from sagemaker import AutoML\n",
    "automl_job_name = \"failure-prediction-automl\"\n",
    "client = boto3.client(\"sagemaker\")\n",
    "response = client.describe_auto_ml_job(AutoMLJobName=automl_job_name)\n",
    "print(\"AutoML Job Status:\", response[\"AutoMLJobStatus\"])"
   ]
  },
  {
   "cell_type": "code",
   "execution_count": null,
   "id": "05a46842-3f49-4824-83e0-a8be5c8040e0",
   "metadata": {},
   "outputs": [],
   "source": [
    "\n"
   ]
  },
  {
   "cell_type": "code",
   "execution_count": 29,
   "id": "17332d06-30ce-40c0-86ef-f0862b2617c9",
   "metadata": {},
   "outputs": [
    {
     "name": "stdout",
     "output_type": "stream",
     "text": [
      "AutoML Job Status: Completed\n",
      "Best Candidate Details:\n",
      "Candidate Name: failure-prediction-automl5JDFhCR-010-07b5b725\n",
      "Objective Metric: {'MetricName': 'validation:accuracy', 'Value': 0.9915000200271606, 'StandardMetricName': 'Accuracy'}\n",
      "Model Details:\n",
      "Container Image: 683313688378.dkr.ecr.us-east-1.amazonaws.com/sagemaker-sklearn-automl:2.5-1-cpu-py3\n",
      "Environment Variables: {'AUTOML_SPARSE_ENCODE_RECORDIO_PROTOBUF': '1', 'AUTOML_TRANSFORM_MODE': 'feature-transform', 'SAGEMAKER_DEFAULT_INVOCATIONS_ACCEPT': 'application/x-recordio-protobuf', 'SAGEMAKER_PROGRAM': 'sagemaker_serve', 'SAGEMAKER_SUBMIT_DIRECTORY': '/opt/ml/model/code'}\n",
      "Container Image: 683313688378.dkr.ecr.us-east-1.amazonaws.com/sagemaker-xgboost:1.3-1-cpu-py3\n",
      "Environment Variables: {'MAX_CONTENT_LENGTH': '20971520', 'SAGEMAKER_DEFAULT_INVOCATIONS_ACCEPT': 'text/csv', 'SAGEMAKER_INFERENCE_OUTPUT': 'predicted_label', 'SAGEMAKER_INFERENCE_SUPPORTED': 'predicted_label,probability,probabilities'}\n",
      "Container Image: 683313688378.dkr.ecr.us-east-1.amazonaws.com/sagemaker-sklearn-automl:2.5-1-cpu-py3\n",
      "Environment Variables: {'AUTOML_TRANSFORM_MODE': 'inverse-label-transform', 'SAGEMAKER_DEFAULT_INVOCATIONS_ACCEPT': 'text/csv', 'SAGEMAKER_INFERENCE_INPUT': 'predicted_label', 'SAGEMAKER_INFERENCE_OUTPUT': 'predicted_label', 'SAGEMAKER_INFERENCE_SUPPORTED': 'predicted_label,probability,labels,probabilities', 'SAGEMAKER_PROGRAM': 'sagemaker_serve', 'SAGEMAKER_SUBMIT_DIRECTORY': '/opt/ml/model/code'}\n"
     ]
    }
   ],
   "source": [
    "response = client.describe_auto_ml_job(AutoMLJobName=automl_job_name)\n",
    "\n",
    "# Print the overall job status\n",
    "print(\"AutoML Job Status:\", response[\"AutoMLJobStatus\"])\n",
    "\n",
    "# Retrieve and display the best candidate\n",
    "best_candidate = response[\"BestCandidate\"]\n",
    "print(\"Best Candidate Details:\")\n",
    "print(\"Candidate Name:\", best_candidate[\"CandidateName\"])\n",
    "print(\"Objective Metric:\", best_candidate[\"FinalAutoMLJobObjectiveMetric\"])\n",
    "\n",
    "# Retrieve model inference details\n",
    "inference_containers = best_candidate[\"InferenceContainers\"]\n",
    "print(\"Model Details:\")\n",
    "for container in inference_containers:\n",
    "    print(\"Container Image:\", container[\"Image\"])\n",
    "    if \"ModelPackageName\" in container:\n",
    "        print(\"Model Package Name:\", container[\"ModelPackageName\"])\n",
    "    if \"Environment\" in container:\n",
    "        print(\"Environment Variables:\", container[\"Environment\"])"
   ]
  },
  {
   "cell_type": "code",
   "execution_count": 30,
   "id": "21fc204a-6024-4adb-a618-8b705b94aee8",
   "metadata": {},
   "outputs": [
    {
     "name": "stdout",
     "output_type": "stream",
     "text": [
      "All Models and Their Details:\n",
      "\n",
      "Candidate Name: failure-prediction-automl5JDFhCR-100-fe38ede6\n",
      "Status: Completed\n",
      "Objective Metric: {'MetricName': 'validation:accuracy', 'Value': 0.90967857837677, 'StandardMetricName': 'Accuracy'}\n",
      "Metrics:\n",
      " - LogLoss: 0.2515617907047272 (Set: Validation)\n",
      " - Accuracy: 0.90967857837677 (Set: Validation)\n",
      " - Recall: 0.9086808562278748 (Set: Validation)\n",
      " - Precision: 0.2686040699481964 (Set: Validation)\n",
      " - AUC: 0.9605914354324341 (Set: Validation)\n",
      " - F1: 0.4139392375946045 (Set: Validation)\n",
      " - BalancedAccuracy: 0.9091978073120117 (Set: Validation)\n",
      "Inference Containers:\n",
      " - Container Image: 683313688378.dkr.ecr.us-east-1.amazonaws.com/sagemaker-sklearn-automl:2.5-1-cpu-py3\n",
      " - Environment Variables: {'AUTOML_TRANSFORM_MODE': 'feature-transform', 'SAGEMAKER_DEFAULT_INVOCATIONS_ACCEPT': 'application/x-recordio-protobuf', 'SAGEMAKER_PROGRAM': 'sagemaker_serve', 'SAGEMAKER_SUBMIT_DIRECTORY': '/opt/ml/model/code'}\n",
      " - Container Image: 382416733822.dkr.ecr.us-east-1.amazonaws.com/mxnet-algorithms:inference-cpu\n",
      " - Environment Variables: {'MAX_CONTENT_LENGTH': '20971520', 'ML_APPLICATION': 'mlp', 'SAGEMAKER_DEFAULT_INVOCATIONS_ACCEPT': 'text/csv', 'SAGEMAKER_INFERENCE_OUTPUT': 'predicted_label', 'SAGEMAKER_INFERENCE_SUPPORTED': 'predicted_label,probability,probabilities'}\n",
      " - Container Image: 683313688378.dkr.ecr.us-east-1.amazonaws.com/sagemaker-sklearn-automl:2.5-1-cpu-py3\n",
      " - Environment Variables: {'AUTOML_TRANSFORM_MODE': 'inverse-label-transform', 'SAGEMAKER_DEFAULT_INVOCATIONS_ACCEPT': 'text/csv', 'SAGEMAKER_INFERENCE_INPUT': 'predicted_label', 'SAGEMAKER_INFERENCE_OUTPUT': 'predicted_label', 'SAGEMAKER_INFERENCE_SUPPORTED': 'predicted_label,probability,labels,probabilities', 'SAGEMAKER_PROGRAM': 'sagemaker_serve', 'SAGEMAKER_SUBMIT_DIRECTORY': '/opt/ml/model/code'}\n",
      "\n",
      "Candidate Name: failure-prediction-automl5JDFhCR-099-fcd3c51d\n",
      "Status: Completed\n",
      "Objective Metric: {'MetricName': 'validation:accuracy', 'Value': 0.9897000193595886, 'StandardMetricName': 'Accuracy'}\n",
      "Metrics:\n",
      " - F1: 0.8372399806976318 (Set: Validation)\n",
      " - LogLoss: 0.05463999882340431 (Set: Validation)\n",
      " - Recall: 0.7643499970436096 (Set: Validation)\n",
      " - Precision: 0.9273499846458435 (Set: Validation)\n",
      " - AUC: 0.9524400234222412 (Set: Validation)\n",
      " - Accuracy: 0.9897000193595886 (Set: Validation)\n",
      " - BalancedAccuracy: 0.881089985370636 (Set: Validation)\n",
      "Inference Containers:\n",
      " - Container Image: 683313688378.dkr.ecr.us-east-1.amazonaws.com/sagemaker-sklearn-automl:2.5-1-cpu-py3\n",
      " - Environment Variables: {'AUTOML_SPARSE_ENCODE_RECORDIO_PROTOBUF': '1', 'AUTOML_TRANSFORM_MODE': 'feature-transform', 'SAGEMAKER_DEFAULT_INVOCATIONS_ACCEPT': 'application/x-recordio-protobuf', 'SAGEMAKER_PROGRAM': 'sagemaker_serve', 'SAGEMAKER_SUBMIT_DIRECTORY': '/opt/ml/model/code'}\n",
      " - Container Image: 683313688378.dkr.ecr.us-east-1.amazonaws.com/sagemaker-xgboost:1.3-1-cpu-py3\n",
      " - Environment Variables: {'MAX_CONTENT_LENGTH': '20971520', 'SAGEMAKER_DEFAULT_INVOCATIONS_ACCEPT': 'text/csv', 'SAGEMAKER_INFERENCE_OUTPUT': 'predicted_label', 'SAGEMAKER_INFERENCE_SUPPORTED': 'predicted_label,probability,probabilities'}\n",
      " - Container Image: 683313688378.dkr.ecr.us-east-1.amazonaws.com/sagemaker-sklearn-automl:2.5-1-cpu-py3\n",
      " - Environment Variables: {'AUTOML_TRANSFORM_MODE': 'inverse-label-transform', 'SAGEMAKER_DEFAULT_INVOCATIONS_ACCEPT': 'text/csv', 'SAGEMAKER_INFERENCE_INPUT': 'predicted_label', 'SAGEMAKER_INFERENCE_OUTPUT': 'predicted_label', 'SAGEMAKER_INFERENCE_SUPPORTED': 'predicted_label,probability,labels,probabilities', 'SAGEMAKER_PROGRAM': 'sagemaker_serve', 'SAGEMAKER_SUBMIT_DIRECTORY': '/opt/ml/model/code'}\n",
      "\n",
      "Candidate Name: failure-prediction-automl5JDFhCR-098-4bfa30bd\n",
      "Status: Completed\n",
      "Objective Metric: {'MetricName': 'validation:accuracy', 'Value': 0.9879000186920166, 'StandardMetricName': 'Accuracy'}\n",
      "Metrics:\n",
      " - F1: 0.8073400259017944 (Set: Validation)\n",
      " - LogLoss: 0.0456399992108345 (Set: Validation)\n",
      " - Recall: 0.7269600033760071 (Set: Validation)\n",
      " - Precision: 0.9092000126838684 (Set: Validation)\n",
      " - AUC: 0.9639800190925598 (Set: Validation)\n",
      " - Accuracy: 0.9879000186920166 (Set: Validation)\n",
      " - BalancedAccuracy: 0.8621299862861633 (Set: Validation)\n",
      "Inference Containers:\n",
      " - Container Image: 683313688378.dkr.ecr.us-east-1.amazonaws.com/sagemaker-sklearn-automl:2.5-1-cpu-py3\n",
      " - Environment Variables: {'AUTOML_SPARSE_ENCODE_RECORDIO_PROTOBUF': '1', 'AUTOML_TRANSFORM_MODE': 'feature-transform', 'SAGEMAKER_DEFAULT_INVOCATIONS_ACCEPT': 'application/x-recordio-protobuf', 'SAGEMAKER_PROGRAM': 'sagemaker_serve', 'SAGEMAKER_SUBMIT_DIRECTORY': '/opt/ml/model/code'}\n",
      " - Container Image: 683313688378.dkr.ecr.us-east-1.amazonaws.com/sagemaker-xgboost:1.3-1-cpu-py3\n",
      " - Environment Variables: {'MAX_CONTENT_LENGTH': '20971520', 'SAGEMAKER_DEFAULT_INVOCATIONS_ACCEPT': 'text/csv', 'SAGEMAKER_INFERENCE_OUTPUT': 'predicted_label', 'SAGEMAKER_INFERENCE_SUPPORTED': 'predicted_label,probability,probabilities'}\n",
      " - Container Image: 683313688378.dkr.ecr.us-east-1.amazonaws.com/sagemaker-sklearn-automl:2.5-1-cpu-py3\n",
      " - Environment Variables: {'AUTOML_TRANSFORM_MODE': 'inverse-label-transform', 'SAGEMAKER_DEFAULT_INVOCATIONS_ACCEPT': 'text/csv', 'SAGEMAKER_INFERENCE_INPUT': 'predicted_label', 'SAGEMAKER_INFERENCE_OUTPUT': 'predicted_label', 'SAGEMAKER_INFERENCE_SUPPORTED': 'predicted_label,probability,labels,probabilities', 'SAGEMAKER_PROGRAM': 'sagemaker_serve', 'SAGEMAKER_SUBMIT_DIRECTORY': '/opt/ml/model/code'}\n",
      "\n",
      "Candidate Name: failure-prediction-automl5JDFhCR-097-3d53ca67\n",
      "Status: Completed\n",
      "Objective Metric: {'MetricName': 'validation:accuracy', 'Value': 0.9904999732971191, 'StandardMetricName': 'Accuracy'}\n",
      "Metrics:\n",
      " - F1: 0.8495399951934814 (Set: Validation)\n",
      " - LogLoss: 0.056529998779296875 (Set: Validation)\n",
      " - Recall: 0.7730399966239929 (Set: Validation)\n",
      " - Precision: 0.9442700147628784 (Set: Validation)\n",
      " - AUC: 0.9627900123596191 (Set: Validation)\n",
      " - Accuracy: 0.9904999732971191 (Set: Validation)\n",
      " - BalancedAccuracy: 0.8856899738311768 (Set: Validation)\n",
      "Inference Containers:\n",
      " - Container Image: 683313688378.dkr.ecr.us-east-1.amazonaws.com/sagemaker-sklearn-automl:2.5-1-cpu-py3\n",
      " - Environment Variables: {'AUTOML_SPARSE_ENCODE_RECORDIO_PROTOBUF': '1', 'AUTOML_TRANSFORM_MODE': 'feature-transform', 'SAGEMAKER_DEFAULT_INVOCATIONS_ACCEPT': 'application/x-recordio-protobuf', 'SAGEMAKER_PROGRAM': 'sagemaker_serve', 'SAGEMAKER_SUBMIT_DIRECTORY': '/opt/ml/model/code'}\n",
      " - Container Image: 683313688378.dkr.ecr.us-east-1.amazonaws.com/sagemaker-xgboost:1.3-1-cpu-py3\n",
      " - Environment Variables: {'MAX_CONTENT_LENGTH': '20971520', 'SAGEMAKER_DEFAULT_INVOCATIONS_ACCEPT': 'text/csv', 'SAGEMAKER_INFERENCE_OUTPUT': 'predicted_label', 'SAGEMAKER_INFERENCE_SUPPORTED': 'predicted_label,probability,probabilities'}\n",
      " - Container Image: 683313688378.dkr.ecr.us-east-1.amazonaws.com/sagemaker-sklearn-automl:2.5-1-cpu-py3\n",
      " - Environment Variables: {'AUTOML_TRANSFORM_MODE': 'inverse-label-transform', 'SAGEMAKER_DEFAULT_INVOCATIONS_ACCEPT': 'text/csv', 'SAGEMAKER_INFERENCE_INPUT': 'predicted_label', 'SAGEMAKER_INFERENCE_OUTPUT': 'predicted_label', 'SAGEMAKER_INFERENCE_SUPPORTED': 'predicted_label,probability,labels,probabilities', 'SAGEMAKER_PROGRAM': 'sagemaker_serve', 'SAGEMAKER_SUBMIT_DIRECTORY': '/opt/ml/model/code'}\n",
      "\n",
      "Candidate Name: failure-prediction-automl5JDFhCR-096-9ce21296\n",
      "Status: Completed\n",
      "Objective Metric: {'MetricName': 'validation:accuracy', 'Value': 0.9833999872207642, 'StandardMetricName': 'Accuracy'}\n",
      "Metrics:\n",
      " - F1: 0.7074900269508362 (Set: Validation)\n",
      " - LogLoss: 0.0552700012922287 (Set: Validation)\n",
      " - Recall: 0.5891500115394592 (Set: Validation)\n",
      " - Precision: 0.9018700122833252 (Set: Validation)\n",
      " - AUC: 0.9617099761962891 (Set: Validation)\n",
      " - Accuracy: 0.9833999872207642 (Set: Validation)\n",
      " - BalancedAccuracy: 0.7933800220489502 (Set: Validation)\n",
      "Inference Containers:\n",
      " - Container Image: 683313688378.dkr.ecr.us-east-1.amazonaws.com/sagemaker-sklearn-automl:2.5-1-cpu-py3\n",
      " - Environment Variables: {'AUTOML_SPARSE_ENCODE_RECORDIO_PROTOBUF': '1', 'AUTOML_TRANSFORM_MODE': 'feature-transform', 'SAGEMAKER_DEFAULT_INVOCATIONS_ACCEPT': 'application/x-recordio-protobuf', 'SAGEMAKER_PROGRAM': 'sagemaker_serve', 'SAGEMAKER_SUBMIT_DIRECTORY': '/opt/ml/model/code'}\n",
      " - Container Image: 683313688378.dkr.ecr.us-east-1.amazonaws.com/sagemaker-xgboost:1.3-1-cpu-py3\n",
      " - Environment Variables: {'MAX_CONTENT_LENGTH': '20971520', 'SAGEMAKER_DEFAULT_INVOCATIONS_ACCEPT': 'text/csv', 'SAGEMAKER_INFERENCE_OUTPUT': 'predicted_label', 'SAGEMAKER_INFERENCE_SUPPORTED': 'predicted_label,probability,probabilities'}\n",
      " - Container Image: 683313688378.dkr.ecr.us-east-1.amazonaws.com/sagemaker-sklearn-automl:2.5-1-cpu-py3\n",
      " - Environment Variables: {'AUTOML_TRANSFORM_MODE': 'inverse-label-transform', 'SAGEMAKER_DEFAULT_INVOCATIONS_ACCEPT': 'text/csv', 'SAGEMAKER_INFERENCE_INPUT': 'predicted_label', 'SAGEMAKER_INFERENCE_OUTPUT': 'predicted_label', 'SAGEMAKER_INFERENCE_SUPPORTED': 'predicted_label,probability,labels,probabilities', 'SAGEMAKER_PROGRAM': 'sagemaker_serve', 'SAGEMAKER_SUBMIT_DIRECTORY': '/opt/ml/model/code'}\n",
      "\n",
      "Candidate Name: failure-prediction-automl5JDFhCR-095-4e6c300f\n",
      "Status: Completed\n",
      "Objective Metric: {'MetricName': 'validation:accuracy', 'Value': 0.9840999841690063, 'StandardMetricName': 'Accuracy'}\n",
      "Metrics:\n",
      " - F1: 0.7084400057792664 (Set: Validation)\n",
      " - LogLoss: 0.0560699999332428 (Set: Validation)\n",
      " - Recall: 0.5604599714279175 (Set: Validation)\n",
      " - Precision: 0.9701499938964844 (Set: Validation)\n",
      " - AUC: 0.9665499925613403 (Set: Validation)\n",
      " - Accuracy: 0.9840999841690063 (Set: Validation)\n",
      " - BalancedAccuracy: 0.7799199819564819 (Set: Validation)\n",
      "Inference Containers:\n",
      " - Container Image: 683313688378.dkr.ecr.us-east-1.amazonaws.com/sagemaker-sklearn-automl:2.5-1-cpu-py3\n",
      " - Environment Variables: {'AUTOML_SPARSE_ENCODE_RECORDIO_PROTOBUF': '1', 'AUTOML_TRANSFORM_MODE': 'feature-transform', 'SAGEMAKER_DEFAULT_INVOCATIONS_ACCEPT': 'application/x-recordio-protobuf', 'SAGEMAKER_PROGRAM': 'sagemaker_serve', 'SAGEMAKER_SUBMIT_DIRECTORY': '/opt/ml/model/code'}\n",
      " - Container Image: 683313688378.dkr.ecr.us-east-1.amazonaws.com/sagemaker-xgboost:1.3-1-cpu-py3\n",
      " - Environment Variables: {'MAX_CONTENT_LENGTH': '20971520', 'SAGEMAKER_DEFAULT_INVOCATIONS_ACCEPT': 'text/csv', 'SAGEMAKER_INFERENCE_OUTPUT': 'predicted_label', 'SAGEMAKER_INFERENCE_SUPPORTED': 'predicted_label,probability,probabilities'}\n",
      " - Container Image: 683313688378.dkr.ecr.us-east-1.amazonaws.com/sagemaker-sklearn-automl:2.5-1-cpu-py3\n",
      " - Environment Variables: {'AUTOML_TRANSFORM_MODE': 'inverse-label-transform', 'SAGEMAKER_DEFAULT_INVOCATIONS_ACCEPT': 'text/csv', 'SAGEMAKER_INFERENCE_INPUT': 'predicted_label', 'SAGEMAKER_INFERENCE_OUTPUT': 'predicted_label', 'SAGEMAKER_INFERENCE_SUPPORTED': 'predicted_label,probability,labels,probabilities', 'SAGEMAKER_PROGRAM': 'sagemaker_serve', 'SAGEMAKER_SUBMIT_DIRECTORY': '/opt/ml/model/code'}\n",
      "\n",
      "Candidate Name: failure-prediction-automl5JDFhCR-094-1faf3306\n",
      "Status: Completed\n",
      "Objective Metric: {'MetricName': 'validation:accuracy', 'Value': 0.9891999959945679, 'StandardMetricName': 'Accuracy'}\n",
      "Metrics:\n",
      " - F1: 0.8208199739456177 (Set: Validation)\n",
      " - LogLoss: 0.05934000015258789 (Set: Validation)\n",
      " - Recall: 0.7181800007820129 (Set: Validation)\n",
      " - Precision: 0.9609699845314026 (Set: Validation)\n",
      " - AUC: 0.9588000178337097 (Set: Validation)\n",
      " - Accuracy: 0.9891999959945679 (Set: Validation)\n",
      " - BalancedAccuracy: 0.8585699796676636 (Set: Validation)\n",
      "Inference Containers:\n",
      " - Container Image: 683313688378.dkr.ecr.us-east-1.amazonaws.com/sagemaker-sklearn-automl:2.5-1-cpu-py3\n",
      " - Environment Variables: {'AUTOML_SPARSE_ENCODE_RECORDIO_PROTOBUF': '1', 'AUTOML_TRANSFORM_MODE': 'feature-transform', 'SAGEMAKER_DEFAULT_INVOCATIONS_ACCEPT': 'application/x-recordio-protobuf', 'SAGEMAKER_PROGRAM': 'sagemaker_serve', 'SAGEMAKER_SUBMIT_DIRECTORY': '/opt/ml/model/code'}\n",
      " - Container Image: 683313688378.dkr.ecr.us-east-1.amazonaws.com/sagemaker-xgboost:1.3-1-cpu-py3\n",
      " - Environment Variables: {'MAX_CONTENT_LENGTH': '20971520', 'SAGEMAKER_DEFAULT_INVOCATIONS_ACCEPT': 'text/csv', 'SAGEMAKER_INFERENCE_OUTPUT': 'predicted_label', 'SAGEMAKER_INFERENCE_SUPPORTED': 'predicted_label,probability,probabilities'}\n",
      " - Container Image: 683313688378.dkr.ecr.us-east-1.amazonaws.com/sagemaker-sklearn-automl:2.5-1-cpu-py3\n",
      " - Environment Variables: {'AUTOML_TRANSFORM_MODE': 'inverse-label-transform', 'SAGEMAKER_DEFAULT_INVOCATIONS_ACCEPT': 'text/csv', 'SAGEMAKER_INFERENCE_INPUT': 'predicted_label', 'SAGEMAKER_INFERENCE_OUTPUT': 'predicted_label', 'SAGEMAKER_INFERENCE_SUPPORTED': 'predicted_label,probability,labels,probabilities', 'SAGEMAKER_PROGRAM': 'sagemaker_serve', 'SAGEMAKER_SUBMIT_DIRECTORY': '/opt/ml/model/code'}\n",
      "\n",
      "Candidate Name: failure-prediction-automl5JDFhCR-093-21c34fc4\n",
      "Status: Completed\n",
      "Objective Metric: {'MetricName': 'validation:accuracy', 'Value': 0.9480999708175659, 'StandardMetricName': 'Accuracy'}\n",
      "Metrics:\n",
      " - F1: 0.29864999651908875 (Set: Validation)\n",
      " - LogLoss: 1.9088399410247803 (Set: Validation)\n",
      " - Recall: 0.32455000281333923 (Set: Validation)\n",
      " - Precision: 0.2855600118637085 (Set: Validation)\n",
      " - AUC: 0.6488999724388123 (Set: Validation)\n",
      " - Accuracy: 0.9480999708175659 (Set: Validation)\n",
      " - BalancedAccuracy: 0.647570013999939 (Set: Validation)\n",
      "Inference Containers:\n",
      " - Container Image: 683313688378.dkr.ecr.us-east-1.amazonaws.com/sagemaker-sklearn-automl:2.5-1-cpu-py3\n",
      " - Environment Variables: {'AUTOML_SPARSE_ENCODE_RECORDIO_PROTOBUF': '1', 'AUTOML_TRANSFORM_MODE': 'feature-transform', 'SAGEMAKER_DEFAULT_INVOCATIONS_ACCEPT': 'application/x-recordio-protobuf', 'SAGEMAKER_PROGRAM': 'sagemaker_serve', 'SAGEMAKER_SUBMIT_DIRECTORY': '/opt/ml/model/code'}\n",
      " - Container Image: 683313688378.dkr.ecr.us-east-1.amazonaws.com/sagemaker-xgboost:1.3-1-cpu-py3\n",
      " - Environment Variables: {'MAX_CONTENT_LENGTH': '20971520', 'SAGEMAKER_DEFAULT_INVOCATIONS_ACCEPT': 'text/csv', 'SAGEMAKER_INFERENCE_OUTPUT': 'predicted_label', 'SAGEMAKER_INFERENCE_SUPPORTED': 'predicted_label,probability,probabilities'}\n",
      " - Container Image: 683313688378.dkr.ecr.us-east-1.amazonaws.com/sagemaker-sklearn-automl:2.5-1-cpu-py3\n",
      " - Environment Variables: {'AUTOML_TRANSFORM_MODE': 'inverse-label-transform', 'SAGEMAKER_DEFAULT_INVOCATIONS_ACCEPT': 'text/csv', 'SAGEMAKER_INFERENCE_INPUT': 'predicted_label', 'SAGEMAKER_INFERENCE_OUTPUT': 'predicted_label', 'SAGEMAKER_INFERENCE_SUPPORTED': 'predicted_label,probability,labels,probabilities', 'SAGEMAKER_PROGRAM': 'sagemaker_serve', 'SAGEMAKER_SUBMIT_DIRECTORY': '/opt/ml/model/code'}\n",
      "\n",
      "Candidate Name: failure-prediction-automl5JDFhCR-092-197f3f98\n",
      "Status: Completed\n",
      "Objective Metric: {'MetricName': 'validation:accuracy', 'Value': 0.9524000287055969, 'StandardMetricName': 'Accuracy'}\n",
      "Metrics:\n",
      " - F1: 0.095940001308918 (Set: Validation)\n",
      " - LogLoss: 1.7474000453948975 (Set: Validation)\n",
      " - Recall: 0.08666999638080597 (Set: Validation)\n",
      " - Precision: 0.12018000334501266 (Set: Validation)\n",
      " - AUC: 0.5415499806404114 (Set: Validation)\n",
      " - Accuracy: 0.9524000287055969 (Set: Validation)\n",
      " - BalancedAccuracy: 0.5351499915122986 (Set: Validation)\n",
      "Inference Containers:\n",
      " - Container Image: 683313688378.dkr.ecr.us-east-1.amazonaws.com/sagemaker-sklearn-automl:2.5-1-cpu-py3\n",
      " - Environment Variables: {'AUTOML_SPARSE_ENCODE_RECORDIO_PROTOBUF': '1', 'AUTOML_TRANSFORM_MODE': 'feature-transform', 'SAGEMAKER_DEFAULT_INVOCATIONS_ACCEPT': 'application/x-recordio-protobuf', 'SAGEMAKER_PROGRAM': 'sagemaker_serve', 'SAGEMAKER_SUBMIT_DIRECTORY': '/opt/ml/model/code'}\n",
      " - Container Image: 683313688378.dkr.ecr.us-east-1.amazonaws.com/sagemaker-xgboost:1.3-1-cpu-py3\n",
      " - Environment Variables: {'MAX_CONTENT_LENGTH': '20971520', 'SAGEMAKER_DEFAULT_INVOCATIONS_ACCEPT': 'text/csv', 'SAGEMAKER_INFERENCE_OUTPUT': 'predicted_label', 'SAGEMAKER_INFERENCE_SUPPORTED': 'predicted_label,probability,probabilities'}\n",
      " - Container Image: 683313688378.dkr.ecr.us-east-1.amazonaws.com/sagemaker-sklearn-automl:2.5-1-cpu-py3\n",
      " - Environment Variables: {'AUTOML_TRANSFORM_MODE': 'inverse-label-transform', 'SAGEMAKER_DEFAULT_INVOCATIONS_ACCEPT': 'text/csv', 'SAGEMAKER_INFERENCE_INPUT': 'predicted_label', 'SAGEMAKER_INFERENCE_OUTPUT': 'predicted_label', 'SAGEMAKER_INFERENCE_SUPPORTED': 'predicted_label,probability,labels,probabilities', 'SAGEMAKER_PROGRAM': 'sagemaker_serve', 'SAGEMAKER_SUBMIT_DIRECTORY': '/opt/ml/model/code'}\n",
      "\n",
      "Candidate Name: failure-prediction-automl5JDFhCR-091-2941a3c3\n",
      "Status: Completed\n",
      "Objective Metric: {'MetricName': 'validation:accuracy', 'Value': 0.9879000186920166, 'StandardMetricName': 'Accuracy'}\n",
      "Metrics:\n",
      " - F1: 0.8066499829292297 (Set: Validation)\n",
      " - LogLoss: 0.0678199976682663 (Set: Validation)\n",
      " - Recall: 0.7272899746894836 (Set: Validation)\n",
      " - Precision: 0.9086199998855591 (Set: Validation)\n",
      " - AUC: 0.95100998878479 (Set: Validation)\n",
      " - Accuracy: 0.9879000186920166 (Set: Validation)\n",
      " - BalancedAccuracy: 0.8622999787330627 (Set: Validation)\n",
      "Inference Containers:\n",
      " - Container Image: 683313688378.dkr.ecr.us-east-1.amazonaws.com/sagemaker-sklearn-automl:2.5-1-cpu-py3\n",
      " - Environment Variables: {'AUTOML_SPARSE_ENCODE_RECORDIO_PROTOBUF': '1', 'AUTOML_TRANSFORM_MODE': 'feature-transform', 'SAGEMAKER_DEFAULT_INVOCATIONS_ACCEPT': 'application/x-recordio-protobuf', 'SAGEMAKER_PROGRAM': 'sagemaker_serve', 'SAGEMAKER_SUBMIT_DIRECTORY': '/opt/ml/model/code'}\n",
      " - Container Image: 683313688378.dkr.ecr.us-east-1.amazonaws.com/sagemaker-xgboost:1.3-1-cpu-py3\n",
      " - Environment Variables: {'MAX_CONTENT_LENGTH': '20971520', 'SAGEMAKER_DEFAULT_INVOCATIONS_ACCEPT': 'text/csv', 'SAGEMAKER_INFERENCE_OUTPUT': 'predicted_label', 'SAGEMAKER_INFERENCE_SUPPORTED': 'predicted_label,probability,probabilities'}\n",
      " - Container Image: 683313688378.dkr.ecr.us-east-1.amazonaws.com/sagemaker-sklearn-automl:2.5-1-cpu-py3\n",
      " - Environment Variables: {'AUTOML_TRANSFORM_MODE': 'inverse-label-transform', 'SAGEMAKER_DEFAULT_INVOCATIONS_ACCEPT': 'text/csv', 'SAGEMAKER_INFERENCE_INPUT': 'predicted_label', 'SAGEMAKER_INFERENCE_OUTPUT': 'predicted_label', 'SAGEMAKER_INFERENCE_SUPPORTED': 'predicted_label,probability,labels,probabilities', 'SAGEMAKER_PROGRAM': 'sagemaker_serve', 'SAGEMAKER_SUBMIT_DIRECTORY': '/opt/ml/model/code'}\n"
     ]
    }
   ],
   "source": [
    "response = client.list_candidates_for_auto_ml_job(AutoMLJobName=automl_job_name)\n",
    "\n",
    "# Print details of each candidate\n",
    "print(\"All Models and Their Details:\")\n",
    "for candidate in response[\"Candidates\"]:\n",
    "    print(\"\\nCandidate Name:\", candidate[\"CandidateName\"])\n",
    "    print(\"Status:\", candidate[\"CandidateStatus\"])\n",
    "    print(\"Objective Metric:\", candidate[\"FinalAutoMLJobObjectiveMetric\"])\n",
    "    print(\"Metrics:\")\n",
    "    for metric in candidate.get(\"CandidateProperties\", {}).get(\"CandidateMetrics\", []):\n",
    "        print(f\" - {metric['MetricName']}: {metric['Value']} (Set: {metric['Set']})\")\n",
    "    print(\"Inference Containers:\")\n",
    "    for container in candidate.get(\"InferenceContainers\", []):\n",
    "        print(\" - Container Image:\", container[\"Image\"])\n",
    "        print(\" - Environment Variables:\", container.get(\"Environment\", {}))"
   ]
  },
  {
   "cell_type": "code",
   "execution_count": 46,
   "id": "cbdd9b26-55ff-4a1e-a3f9-75290e698eae",
   "metadata": {},
   "outputs": [
    {
     "name": "stdout",
     "output_type": "stream",
     "text": [
      "{'Explainability': 's3://machine-failure-transformed-bucket/AutopilotOutput/failure-prediction-automl/documentation/explainability/output', 'ModelInsights': 's3://machine-failure-transformed-bucket/AutopilotOutput/failure-prediction-automl/documentation/model_monitor/output'}\n"
     ]
    }
   ],
   "source": [
    "print(best_candidate[\"CandidateProperties\"][\"CandidateArtifactLocations\"])"
   ]
  },
  {
   "cell_type": "code",
   "execution_count": 47,
   "id": "17b53b09-bcbe-4122-95a4-0cbd9cfdc368",
   "metadata": {},
   "outputs": [
    {
     "name": "stdout",
     "output_type": "stream",
     "text": [
      "[{'Image': '683313688378.dkr.ecr.us-east-1.amazonaws.com/sagemaker-sklearn-automl:2.5-1-cpu-py3', 'ModelDataUrl': 's3://machine-failure-transformed-bucket/AutopilotOutput/failure-prediction-automl/data-processor-models/failure-prediction-automl-dpp5-1-d5bde47af9624719a567278df21a3b/output/model.tar.gz', 'Environment': {'AUTOML_SPARSE_ENCODE_RECORDIO_PROTOBUF': '1', 'AUTOML_TRANSFORM_MODE': 'feature-transform', 'SAGEMAKER_DEFAULT_INVOCATIONS_ACCEPT': 'application/x-recordio-protobuf', 'SAGEMAKER_PROGRAM': 'sagemaker_serve', 'SAGEMAKER_SUBMIT_DIRECTORY': '/opt/ml/model/code'}}, {'Image': '683313688378.dkr.ecr.us-east-1.amazonaws.com/sagemaker-xgboost:1.3-1-cpu-py3', 'ModelDataUrl': 's3://machine-failure-transformed-bucket/AutopilotOutput/failure-prediction-automl/tuning/failure-pr-dpp5-xgb/failure-prediction-automl5JDFhCR-010-07b5b725/output/model.tar.gz', 'Environment': {'MAX_CONTENT_LENGTH': '20971520', 'SAGEMAKER_DEFAULT_INVOCATIONS_ACCEPT': 'text/csv', 'SAGEMAKER_INFERENCE_OUTPUT': 'predicted_label', 'SAGEMAKER_INFERENCE_SUPPORTED': 'predicted_label,probability,probabilities'}}, {'Image': '683313688378.dkr.ecr.us-east-1.amazonaws.com/sagemaker-sklearn-automl:2.5-1-cpu-py3', 'ModelDataUrl': 's3://machine-failure-transformed-bucket/AutopilotOutput/failure-prediction-automl/data-processor-models/failure-prediction-automl-dpp5-1-d5bde47af9624719a567278df21a3b/output/model.tar.gz', 'Environment': {'AUTOML_TRANSFORM_MODE': 'inverse-label-transform', 'SAGEMAKER_DEFAULT_INVOCATIONS_ACCEPT': 'text/csv', 'SAGEMAKER_INFERENCE_INPUT': 'predicted_label', 'SAGEMAKER_INFERENCE_OUTPUT': 'predicted_label', 'SAGEMAKER_INFERENCE_SUPPORTED': 'predicted_label,probability,labels,probabilities', 'SAGEMAKER_PROGRAM': 'sagemaker_serve', 'SAGEMAKER_SUBMIT_DIRECTORY': '/opt/ml/model/code'}}]\n"
     ]
    }
   ],
   "source": [
    "print(best_candidate[\"InferenceContainers\"])"
   ]
  },
  {
   "cell_type": "code",
   "execution_count": 49,
   "id": "6369b47e-ca20-462c-94d7-a1a382604e7a",
   "metadata": {},
   "outputs": [
    {
     "name": "stdout",
     "output_type": "stream",
     "text": [
      "-------!XGBoost endpoint deployed: failure-prediction-xgboost-endpoint\n"
     ]
    }
   ],
   "source": [
    "xgboost_container = {\n",
    "    \"Image\": \"683313688378.dkr.ecr.us-east-1.amazonaws.com/sagemaker-xgboost:1.3-1-cpu-py3\",\n",
    "    \"ModelDataUrl\": \"s3://machine-failure-transformed-bucket/AutopilotOutput/failure-prediction-automl/tuning/failure-pr-dpp5-xgb/failure-prediction-automl5JDFhCR-010-07b5b725/output/model.tar.gz\",\n",
    "}\n",
    "\n",
    "from sagemaker.model import Model\n",
    "\n",
    "xgboost_model = Model(\n",
    "    model_data=xgboost_container[\"ModelDataUrl\"],\n",
    "    image_uri=xgboost_container[\"Image\"],\n",
    "    role=role,\n",
    "    sagemaker_session=session\n",
    ")\n",
    "\n",
    "endpoint_name = \"failure-prediction-xgboost-endpoint\"\n",
    "\n",
    "predictor = xgboost_model.deploy(\n",
    "    initial_instance_count=1,\n",
    "    instance_type=\"ml.m4.xlarge\",\n",
    "    endpoint_name=endpoint_name\n",
    ")\n",
    "\n",
    "print(f\"XGBoost endpoint deployed: {endpoint_name}\")\n"
   ]
  },
  {
   "cell_type": "code",
   "execution_count": 50,
   "id": "75f1704e-f75b-4cb5-9a99-7f75636183d5",
   "metadata": {},
   "outputs": [
    {
     "name": "stdout",
     "output_type": "stream",
     "text": [
      "Prediction result: 0.008737483061850071\n",
      "\n"
     ]
    }
   ],
   "source": [
    "\n",
    "import boto3\n",
    "import json\n",
    "\n",
    "# Initialize SageMaker runtime client\n",
    "runtime_client = boto3.client(\"sagemaker-runtime\")\n",
    "\n",
    "# Define your endpoint name\n",
    "endpoint_name = \"failure-prediction-xgboost-endpoint\"\n",
    "\n",
    "# Example payload: replace with your feature data\n",
    "test_payload = \"28.1,38.6,11,4.8,0,1.5,61.584688\"  \n",
    "\n",
    "# Send the request\n",
    "response = runtime_client.invoke_endpoint(\n",
    "    EndpointName=endpoint_name,\n",
    "    ContentType=\"text/csv\",  \n",
    "    Body=test_payload\n",
    ")\n",
    "\n",
    "# Parse the response\n",
    "result = response[\"Body\"].read().decode(\"utf-8\")\n",
    "print(\"Prediction result:\", result)\n",
    "\n"
   ]
  },
  {
   "cell_type": "code",
   "execution_count": null,
   "id": "ca4ac124-6817-4394-b434-e8a15eff37a6",
   "metadata": {},
   "outputs": [],
   "source": [
    "\n"
   ]
  },
  {
   "cell_type": "code",
   "execution_count": null,
   "id": "49537cc4-e184-4478-8508-3d79f4d902f6",
   "metadata": {},
   "outputs": [],
   "source": []
  }
 ],
 "metadata": {
  "kernelspec": {
   "display_name": "Python 3 (ipykernel)",
   "language": "python",
   "name": "python3"
  },
  "language_info": {
   "codemirror_mode": {
    "name": "ipython",
    "version": 3
   },
   "file_extension": ".py",
   "mimetype": "text/x-python",
   "name": "python",
   "nbconvert_exporter": "python",
   "pygments_lexer": "ipython3",
   "version": "3.11.10"
  }
 },
 "nbformat": 4,
 "nbformat_minor": 5
}
